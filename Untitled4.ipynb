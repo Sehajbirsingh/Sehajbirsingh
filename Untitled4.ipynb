{
  "nbformat": 4,
  "nbformat_minor": 0,
  "metadata": {
    "colab": {
      "provenance": [],
      "authorship_tag": "ABX9TyOWuqRgGsGRFP+SvDaK3OJp",
      "include_colab_link": true
    },
    "kernelspec": {
      "name": "python3",
      "display_name": "Python 3"
    },
    "language_info": {
      "name": "python"
    }
  },
  "cells": [
    {
      "cell_type": "markdown",
      "metadata": {
        "id": "view-in-github",
        "colab_type": "text"
      },
      "source": [
        "<a href=\"https://colab.research.google.com/github/Sehajbirsingh/Sehajbirsingh/blob/main/Untitled4.ipynb\" target=\"_parent\"><img src=\"https://colab.research.google.com/assets/colab-badge.svg\" alt=\"Open In Colab\"/></a>"
      ]
    },
    {
      "cell_type": "code",
      "execution_count": null,
      "metadata": {
        "colab": {
          "base_uri": "https://localhost:8080/"
        },
        "id": "HZHNeorkWgA7",
        "outputId": "d0a25d30-7e31-4efc-8fd7-541f7fb2269c"
      },
      "outputs": [
        {
          "output_type": "stream",
          "name": "stdout",
          "text": [
            "Requirement already satisfied: nltk in /usr/local/lib/python3.10/dist-packages (3.8.1)\n",
            "Requirement already satisfied: click in /usr/local/lib/python3.10/dist-packages (from nltk) (8.1.7)\n",
            "Requirement already satisfied: joblib in /usr/local/lib/python3.10/dist-packages (from nltk) (1.4.2)\n",
            "Requirement already satisfied: regex>=2021.8.3 in /usr/local/lib/python3.10/dist-packages (from nltk) (2024.5.15)\n",
            "Requirement already satisfied: tqdm in /usr/local/lib/python3.10/dist-packages (from nltk) (4.66.5)\n"
          ]
        }
      ],
      "source": [
        "pip install nltk"
      ]
    },
    {
      "cell_type": "markdown",
      "source": [
        "import pandas as pd\n",
        "import numpy as np\n",
        "import nltk"
      ],
      "metadata": {
        "id": "oGmVVTGLWlQe"
      }
    },
    {
      "cell_type": "code",
      "source": [
        "import pandas as pd\n",
        "import numpy as np\n",
        "import nltk"
      ],
      "metadata": {
        "id": "WAy7XhhTXKdF"
      },
      "execution_count": null,
      "outputs": []
    },
    {
      "cell_type": "code",
      "source": [
        "from google.colab import drive\n",
        "import pandas as pd\n",
        "\n",
        "# Mount Google Drive\n",
        "drive.mount('/content/drive')\n",
        "\n",
        "# Replace 'path_to_spam.csv' with the full path of your file in Drive\n",
        "file_path = '/content/drive/My Drive/spam.csv'\n",
        "\n",
        "\n"
      ],
      "metadata": {
        "id": "EeiPw1l2XOrf",
        "colab": {
          "base_uri": "https://localhost:8080/"
        },
        "outputId": "942cfc86-9d07-4186-aef7-56953b2efc70"
      },
      "execution_count": 11,
      "outputs": [
        {
          "output_type": "stream",
          "name": "stdout",
          "text": [
            "Drive already mounted at /content/drive; to attempt to forcibly remount, call drive.mount(\"/content/drive\", force_remount=True).\n",
            "    ham  \\\n",
            "0   ham   \n",
            "1  spam   \n",
            "2   ham   \n",
            "3   ham   \n",
            "4  spam   \n",
            "\n",
            "  Go until jurong point, crazy.. Available only in bugis n great world la e buffet... Cine there got amore wat...  \\\n",
            "0                      Ok lar... Joking wif u oni...                                                                \n",
            "1  Free entry in 2 a wkly comp to win FA Cup fina...                                                                \n",
            "2  U dun say so early hor... U c already then say...                                                                \n",
            "3  Nah I don't think he goes to usf, he lives aro...                                                                \n",
            "4  FreeMsg Hey there darling it's been 3 week's n...                                                                \n",
            "\n",
            "  Unnamed: 2 Unnamed: 3 Unnamed: 4  \n",
            "0        NaN        NaN        NaN  \n",
            "1        NaN        NaN        NaN  \n",
            "2        NaN        NaN        NaN  \n",
            "3        NaN        NaN        NaN  \n",
            "4        NaN        NaN        NaN  \n"
          ]
        }
      ]
    },
    {
      "cell_type": "code",
      "source": [
        "# Read the CSV file\n",
        "df = pd.read_csv(file_path, encoding='ISO-8859-1')\n",
        "\n",
        "# Print first 5 rows\n",
        "print(df.head())"
      ],
      "metadata": {
        "colab": {
          "base_uri": "https://localhost:8080/"
        },
        "id": "rjCu0mSpbeg9",
        "outputId": "5faf383e-d84d-4254-9ee2-d162631d3c9d"
      },
      "execution_count": 12,
      "outputs": [
        {
          "output_type": "stream",
          "name": "stdout",
          "text": [
            "    ham  \\\n",
            "0   ham   \n",
            "1  spam   \n",
            "2   ham   \n",
            "3   ham   \n",
            "4  spam   \n",
            "\n",
            "  Go until jurong point, crazy.. Available only in bugis n great world la e buffet... Cine there got amore wat...  \\\n",
            "0                      Ok lar... Joking wif u oni...                                                                \n",
            "1  Free entry in 2 a wkly comp to win FA Cup fina...                                                                \n",
            "2  U dun say so early hor... U c already then say...                                                                \n",
            "3  Nah I don't think he goes to usf, he lives aro...                                                                \n",
            "4  FreeMsg Hey there darling it's been 3 week's n...                                                                \n",
            "\n",
            "  Unnamed: 2 Unnamed: 3 Unnamed: 4  \n",
            "0        NaN        NaN        NaN  \n",
            "1        NaN        NaN        NaN  \n",
            "2        NaN        NaN        NaN  \n",
            "3        NaN        NaN        NaN  \n",
            "4        NaN        NaN        NaN  \n"
          ]
        }
      ]
    }
  ]
}